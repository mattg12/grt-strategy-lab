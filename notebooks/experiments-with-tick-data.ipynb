{
 "cells": [
  {
   "cell_type": "markdown",
   "id": "88d018c4",
   "metadata": {},
   "source": [
    "## Experiments with Tick Data"
   ]
  },
  {
   "cell_type": "code",
   "execution_count": 15,
   "id": "09fda626",
   "metadata": {},
   "outputs": [],
   "source": [
    "import numpy as np\n",
    "import pandas as pd\n",
    "import matplotlib.pyplot as plt"
   ]
  },
  {
   "cell_type": "code",
   "execution_count": 16,
   "id": "b422bdc6",
   "metadata": {},
   "outputs": [],
   "source": [
    "ticks = pd.read_csv(\n",
    "    '../data/USDMXN-2021-04.csv',\n",
    "    names=['pair', 'timestamp', 'bid', 'ask'],\n",
    "    index_col=1\n",
    ")"
   ]
  },
  {
   "cell_type": "code",
   "execution_count": 17,
   "id": "eb524dee",
   "metadata": {},
   "outputs": [
    {
     "data": {
      "text/html": [
       "<div>\n",
       "<style scoped>\n",
       "    .dataframe tbody tr th:only-of-type {\n",
       "        vertical-align: middle;\n",
       "    }\n",
       "\n",
       "    .dataframe tbody tr th {\n",
       "        vertical-align: top;\n",
       "    }\n",
       "\n",
       "    .dataframe thead th {\n",
       "        text-align: right;\n",
       "    }\n",
       "</style>\n",
       "<table border=\"1\" class=\"dataframe\">\n",
       "  <thead>\n",
       "    <tr style=\"text-align: right;\">\n",
       "      <th></th>\n",
       "      <th>pair</th>\n",
       "      <th>bid</th>\n",
       "      <th>ask</th>\n",
       "    </tr>\n",
       "    <tr>\n",
       "      <th>timestamp</th>\n",
       "      <th></th>\n",
       "      <th></th>\n",
       "      <th></th>\n",
       "    </tr>\n",
       "  </thead>\n",
       "  <tbody>\n",
       "    <tr>\n",
       "      <th>20210401 00:00:00.064</th>\n",
       "      <td>USD/MXN</td>\n",
       "      <td>20.4308</td>\n",
       "      <td>20.4401</td>\n",
       "    </tr>\n",
       "    <tr>\n",
       "      <th>20210401 00:00:00.070</th>\n",
       "      <td>USD/MXN</td>\n",
       "      <td>20.4306</td>\n",
       "      <td>20.4395</td>\n",
       "    </tr>\n",
       "    <tr>\n",
       "      <th>20210401 00:00:00.146</th>\n",
       "      <td>USD/MXN</td>\n",
       "      <td>20.4307</td>\n",
       "      <td>20.4395</td>\n",
       "    </tr>\n",
       "    <tr>\n",
       "      <th>20210401 00:00:00.225</th>\n",
       "      <td>USD/MXN</td>\n",
       "      <td>20.4305</td>\n",
       "      <td>20.4395</td>\n",
       "    </tr>\n",
       "    <tr>\n",
       "      <th>20210401 00:00:00.300</th>\n",
       "      <td>USD/MXN</td>\n",
       "      <td>20.4305</td>\n",
       "      <td>20.4394</td>\n",
       "    </tr>\n",
       "  </tbody>\n",
       "</table>\n",
       "</div>"
      ],
      "text/plain": [
       "                          pair      bid      ask\n",
       "timestamp                                       \n",
       "20210401 00:00:00.064  USD/MXN  20.4308  20.4401\n",
       "20210401 00:00:00.070  USD/MXN  20.4306  20.4395\n",
       "20210401 00:00:00.146  USD/MXN  20.4307  20.4395\n",
       "20210401 00:00:00.225  USD/MXN  20.4305  20.4395\n",
       "20210401 00:00:00.300  USD/MXN  20.4305  20.4394"
      ]
     },
     "execution_count": 17,
     "metadata": {},
     "output_type": "execute_result"
    }
   ],
   "source": [
    "ticks.head()"
   ]
  },
  {
   "cell_type": "code",
   "execution_count": 18,
   "id": "4ac8be49",
   "metadata": {},
   "outputs": [
    {
     "data": {
      "text/plain": [
       "<AxesSubplot:xlabel='timestamp'>"
      ]
     },
     "execution_count": 18,
     "metadata": {},
     "output_type": "execute_result"
    },
    {
     "data": {
      "image/png": "[encoded data removed]",
      "text/plain": [
       "<Figure size 432x288 with 1 Axes>"
      ]
     },
     "metadata": {
      "needs_background": "light"
     },
     "output_type": "display_data"
    }
   ],
   "source": [
    "ticks[['bid','ask']].plot()"
   ]
  },
  {
   "cell_type": "code",
   "execution_count": 19,
   "id": "b09b5df0",
   "metadata": {},
   "outputs": [
    {
     "data": {
      "text/plain": [
       "(2870217, 3)"
      ]
     },
     "execution_count": 19,
     "metadata": {},
     "output_type": "execute_result"
    }
   ],
   "source": [
    "ticks.shape"
   ]
  },
  {
   "cell_type": "code",
   "execution_count": 20,
   "id": "3cfb1369",
   "metadata": {},
   "outputs": [],
   "source": [
    "ticks['fair'] = (ticks['bid'] + ticks['ask']) / 2"
   ]
  },
  {
   "cell_type": "code",
   "execution_count": 21,
   "id": "69d729e0",
   "metadata": {},
   "outputs": [],
   "source": [
    "ticks['ret'] = ticks['fair'].diff()"
   ]
  },
  {
   "cell_type": "code",
   "execution_count": 25,
   "id": "613823bd",
   "metadata": {},
   "outputs": [
    {
     "data": {
      "image/png": "[encoded data removed]",
      "text/plain": [
       "<Figure size 432x288 with 1 Axes>"
      ]
     },
     "metadata": {
      "needs_background": "light"
     },
     "output_type": "display_data"
    }
   ],
   "source": [
    "plt.hist(ticks['ret'], bins=50);"
   ]
  },
  {
   "cell_type": "code",
   "execution_count": null,
   "id": "f4929776",
   "metadata": {},
   "outputs": [],
   "source": []
  }
 ],
 "metadata": {
  "kernelspec": {
   "display_name": "Python 3",
   "language": "python",
   "name": "python3"
  },
  "language_info": {
   "codemirror_mode": {
    "name": "ipython",
    "version": 3
   },
   "file_extension": ".py",
   "mimetype": "text/x-python",
   "name": "python",
   "nbconvert_exporter": "python",
   "pygments_lexer": "ipython3",
   "version": "3.8.5"
  }
 },
 "nbformat": 4,
 "nbformat_minor": 5
}
